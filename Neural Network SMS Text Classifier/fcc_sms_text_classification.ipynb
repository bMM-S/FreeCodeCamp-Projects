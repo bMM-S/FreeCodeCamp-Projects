{
  "cells": [
    {
      "cell_type": "code",
      "execution_count": null,
      "metadata": {
        "id": "8RZOuS9LWQvv"
      },
      "outputs": [],
      "source": [
        "# import libraries\n",
        "#try:\n",
        "  # %tensorflow_version only exists in Colab.\n",
        "  #!pip install tf-nightly\n",
        "#except Exception:\n",
        "#  pass\n",
        "import tensorflow as tf\n",
        "import pandas as pd\n",
        "from tensorflow import keras\n",
        "!pip install tensorflow-datasets\n",
        "import tensorflow_datasets as tfds\n",
        "import numpy as np\n",
        "import matplotlib.pyplot as plt\n",
        "\n",
        "print(tf.__version__)"
      ]
    },
    {
      "cell_type": "code",
      "execution_count": null,
      "metadata": {
        "id": "lMHwYXHXCar3"
      },
      "outputs": [],
      "source": [
        "# get data files\n",
        "!wget https://cdn.freecodecamp.org/project-data/sms/train-data.tsv\n",
        "!wget https://cdn.freecodecamp.org/project-data/sms/valid-data.tsv\n",
        "\n",
        "train_file_path = \"train-data.tsv\"\n",
        "test_file_path = \"valid-data.tsv\""
      ]
    },
    {
      "cell_type": "code",
      "source": [
        "train = pd.read_csv(train_file_path,delimiter= '\\t', names=['ham/spam','sentence'])\n",
        "train_data = train['sentence']\n",
        "train_labels = train['ham/spam']\n",
        "\n",
        "test = pd.read_csv(test_file_path,delimiter= '\\t', names=['ham/spam','sentence'])\n",
        "test_data = test['sentence']\n",
        "test_labels = test['ham/spam']\n",
        "\n",
        "\n",
        "n_words_train = train_data.apply(lambda x: len(x.split()))\n",
        "n_words_test = test_data.apply(lambda x: len(x.split()))\n",
        "total_sum = (n_words_train.sum() + n_words_test.sum())\n",
        "average = total_sum / (len(train_data) + len(test_data))\n",
        "average= round(average,0)\n",
        "print(total_sum)\n",
        "print(average)"
      ],
      "metadata": {
        "id": "GRhVUL1LVGPe"
      },
      "execution_count": null,
      "outputs": []
    },
    {
      "cell_type": "code",
      "execution_count": null,
      "metadata": {
        "id": "zOMKywn4zReN"
      },
      "outputs": [],
      "source": [
        "# tokenizing of the input SMS messages\n",
        "\n",
        "from tensorflow.keras.preprocessing.text import Tokenizer\n",
        "from tensorflow.keras.preprocessing.sequence import pad_sequences\n",
        "\n",
        "tokenizer = Tokenizer()\n",
        "tokenizer.fit_on_texts(train_data)\n",
        "\n",
        "train_sequences = tokenizer.texts_to_sequences(train_data)\n",
        "test_sequences = tokenizer.texts_to_sequences(test_data)\n",
        "\n",
        "padded_train_sequences = pad_sequences(train_sequences, maxlen=int(average), padding='post', truncating='post')\n",
        "padded_test_sequences = pad_sequences(test_sequences, maxlen=int(average), padding='post', truncating='post')\n",
        "\n",
        "train_data_pad = pd.DataFrame(padded_train_sequences)\n",
        "test_data_pad = pd.DataFrame(padded_test_sequences)\n",
        "\n",
        "unique_tokens = set()\n",
        "\n",
        "for sentence in train_sequences:\n",
        "    unique_tokens.update(sentence)\n",
        "\n",
        "for sentence in test_sequences:\n",
        "    unique_tokens.update(sentence)\n",
        "\n",
        "input_dim = len(unique_tokens)\n",
        "print(input_dim)"
      ]
    },
    {
      "cell_type": "code",
      "source": [
        "# encoding of the labels into numerical values\n",
        "\n",
        "mapping = {'ham': 0, 'spam':1}\n",
        "\n",
        "train_labels_map = train_labels.map(mapping)\n",
        "test_labels_map = test_labels.map(mapping)"
      ],
      "metadata": {
        "id": "N5EV_WYpRzKn"
      },
      "execution_count": null,
      "outputs": []
    },
    {
      "cell_type": "code",
      "source": [
        "from tensorflow.keras.models import Sequential\n",
        "from tensorflow.keras.layers import LSTM, Dense, Embedding\n",
        "\n",
        "model = Sequential([\n",
        "                    Embedding(input_dim= input_dim + 1, output_dim=32, mask_zero=True),\n",
        "                    LSTM(32),\n",
        "                    Dense(10,activation = 'relu'),\n",
        "                    Dense(1, activation = 'sigmoid')\n",
        "                  ])\n",
        "\n",
        "model.compile(optimizer='adam', loss='binary_crossentropy', metrics=['accuracy'])\n",
        "\n",
        "model.summary()"
      ],
      "metadata": {
        "id": "LJ4WRbl8UAnO"
      },
      "execution_count": null,
      "outputs": []
    },
    {
      "cell_type": "code",
      "source": [
        "model.fit(padded_train_sequences, train_labels_map,\n",
        "          epochs=10,\n",
        "          batch_size=32)"
      ],
      "metadata": {
        "id": "8qkwhO5wgzWW"
      },
      "execution_count": null,
      "outputs": []
    },
    {
      "cell_type": "code",
      "source": [
        "test_loss, test_acc = model.evaluate(padded_test_sequences, test_labels_map)"
      ],
      "metadata": {
        "id": "7GNOTZXnkbSo"
      },
      "execution_count": null,
      "outputs": []
    },
    {
      "cell_type": "code",
      "execution_count": null,
      "metadata": {
        "id": "J9tD9yACG6M9"
      },
      "outputs": [],
      "source": [
        "# function to predict messages based on model\n",
        "# (should return list containing prediction and label, ex. [0.008318834938108921, 'ham'])\n",
        "def predict_message(pred_text):\n",
        "\n",
        "    pred_text_tokenized = tokenizer.texts_to_sequences([pred_text])\n",
        "\n",
        "    padded_pred_text = pad_sequences(pred_text_tokenized, maxlen=int(average), padding='post', truncating='post')\n",
        "\n",
        "    prediction = model.predict(padded_pred_text)\n",
        "\n",
        "    if prediction >=0.5:\n",
        "      prediction = [prediction, 'spam']\n",
        "    else:\n",
        "      prediction = [prediction, 'ham']\n",
        "\n",
        "    return prediction\n",
        "\n",
        "pred_text = \"how are you doing today?\"\n",
        "\n",
        "prediction = predict_message(pred_text)\n",
        "print(prediction)"
      ]
    },
    {
      "cell_type": "code",
      "execution_count": null,
      "metadata": {
        "id": "Dxotov85SjsC"
      },
      "outputs": [],
      "source": [
        "# Run this cell to test your function and model. Do not modify contents.\n",
        "def test_predictions():\n",
        "  test_messages = [\"how are you doing today\",\n",
        "                   \"sale today! to stop texts call 98912460324\",\n",
        "                   \"i dont want to go. can we try it a different day? available sat\",\n",
        "                   \"our new mobile video service is live. just install on your phone to start watching.\",\n",
        "                   \"you have won £1000 cash! call to claim your prize.\",\n",
        "                   \"i'll bring it tomorrow. don't forget the milk.\",\n",
        "                   \"wow, is your arm alright. that happened to me one time too\"\n",
        "                  ]\n",
        "\n",
        "  test_answers = [\"ham\", \"spam\", \"ham\", \"spam\", \"spam\", \"ham\", \"ham\"]\n",
        "  passed = True\n",
        "\n",
        "  for msg, ans in zip(test_messages, test_answers):\n",
        "    prediction = predict_message(msg)\n",
        "    if prediction[1] != ans:\n",
        "      passed = False\n",
        "\n",
        "  if passed:\n",
        "    print(\"You passed the challenge. Great job!\")\n",
        "  else:\n",
        "    print(\"You haven't passed yet. Keep trying.\")\n",
        "\n",
        "test_predictions()\n"
      ]
    }
  ],
  "metadata": {
    "colab": {
      "private_outputs": true,
      "provenance": []
    },
    "kernelspec": {
      "display_name": "Python 3",
      "name": "python3"
    },
    "language_info": {}
  },
  "nbformat": 4,
  "nbformat_minor": 0
}