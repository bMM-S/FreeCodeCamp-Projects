{
  "cells": [
    {
      "cell_type": "code",
      "execution_count": null,
      "metadata": {
        "id": "Y1onB6kUvo4Z"
      },
      "outputs": [],
      "source": [
        "# import libraries (you may add additional imports but you may not have to)\n",
        "import numpy as np\n",
        "import pandas as pd\n",
        "from scipy.sparse import csr_matrix\n",
        "from sklearn.neighbors import NearestNeighbors\n",
        "import matplotlib.pyplot as plt"
      ]
    },
    {
      "cell_type": "code",
      "execution_count": null,
      "metadata": {
        "id": "iAQGqqO_vo4d"
      },
      "outputs": [],
      "source": [
        "# get data files\n",
        "!wget https://cdn.freecodecamp.org/project-data/books/book-crossings.zip\n",
        "\n",
        "#!unzip book-crossings.zip\n",
        "\n",
        "books_filename = 'BX-Books.csv'\n",
        "ratings_filename = 'BX-Book-Ratings.csv'"
      ]
    },
    {
      "cell_type": "code",
      "execution_count": null,
      "metadata": {
        "id": "NClILWOiEd6Q"
      },
      "outputs": [],
      "source": [
        "# import csv data into dataframes\n",
        "df_books = pd.read_csv(\n",
        "    books_filename,\n",
        "    encoding = \"ISO-8859-1\",\n",
        "    sep=\";\",\n",
        "    header=0,\n",
        "    names=['isbn', 'title', 'author'],\n",
        "    usecols=['isbn', 'title', 'author'],\n",
        "    dtype={'isbn': 'str', 'title': 'str', 'author': 'str'})\n",
        "\n",
        "df_ratings = pd.read_csv(\n",
        "    ratings_filename,\n",
        "    encoding = \"ISO-8859-1\",\n",
        "    sep=\";\",\n",
        "    header=0,\n",
        "    names=['user', 'isbn', 'rating'],\n",
        "    usecols=['user', 'isbn', 'rating'],\n",
        "    dtype={'user': 'int32', 'isbn': 'str', 'rating': 'float32'})"
      ]
    },
    {
      "cell_type": "code",
      "source": [
        "df_filtered = pd.merge(df_ratings, df_books, on='isbn')\n",
        "\n",
        "book_rating_counts = df_filtered['title'].value_counts()\n",
        "popular_books = book_rating_counts[book_rating_counts >= 101].index.tolist()\n",
        "popular_books_data = df_filtered[df_filtered['title'].isin(popular_books)]\n",
        "\n",
        "user_counts = df_ratings['user'].value_counts()\n",
        "popular_users = user_counts[user_counts >= 201].index.tolist()\n",
        "popular_users_data = popular_books_data[popular_books_data['user'].isin(popular_users)]\n",
        "\n",
        "df = popular_users_data.pivot_table(index='title',columns='user',values='rating').fillna(0)\n",
        "df_matrix = csr_matrix(df.values)"
      ],
      "metadata": {
        "id": "y2rugaJUfV2Y"
      },
      "execution_count": null,
      "outputs": []
    },
    {
      "cell_type": "code",
      "source": [
        "def get_recommends(book = \"\"):\n",
        "    model_knn = NearestNeighbors(metric = 'cosine', n_neighbors=5, algorithm='auto')\n",
        "    model_knn.fit(df_matrix)\n",
        "\n",
        "    # found book TODO: user a better search\n",
        "    for query_index in range(len(df)):\n",
        "        if df.index[query_index] == book:\n",
        "            break\n",
        "\n",
        "    # creating return structure\n",
        "    ret = [df.index[query_index], []]\n",
        "    distances, indices = model_knn.kneighbors(df.iloc[query_index,:].values.reshape(1, -1))\n",
        "    # now we located the book. lets show the recomendations\n",
        "    for i in range(1, len(distances.flatten())):\n",
        "        ret[1].insert(0, [df.index[indices.flatten()[i]], distances.flatten()[i]])\n",
        "    return ret"
      ],
      "metadata": {
        "id": "zJwKVBy8KtsY"
      },
      "execution_count": null,
      "outputs": []
    },
    {
      "cell_type": "code",
      "source": [
        "def test_book_recommendation():\n",
        "  test_pass = True\n",
        "  recommends = get_recommends(\"Where the Heart Is (Oprah's Book Club (Paperback))\")\n",
        "  print(recommends[1])\n",
        "  if recommends[0] != \"Where the Heart Is (Oprah's Book Club (Paperback))\":\n",
        "    test_pass = False\n",
        "  recommended_books = [\"I'll Be Seeing You\", 'The Weight of Water', 'The Surgeon', 'I Know This Much Is True']\n",
        "  recommended_books_dist = [0.8, 0.77, 0.77, 0.77]\n",
        "  for i in range(2):\n",
        "    if recommends[1][i][0] not in recommended_books:\n",
        "      test_pass = False\n",
        "    if abs(recommends[1][i][1] - recommended_books_dist[i]) >= 0.05:\n",
        "      test_pass = False\n",
        "  if test_pass:\n",
        "    print(\"You passed the challenge! 🎉🎉🎉🎉🎉\")\n",
        "  else:\n",
        "    print(\"You haven't passed yet. Keep trying!\")\n",
        "  return (recommends)\n",
        "test_book_recommendation()"
      ],
      "metadata": {
        "colab": {
          "base_uri": "https://localhost:8080/"
        },
        "id": "M88c51SqL21F",
        "outputId": "c879195b-6e0c-43d0-85c3-e72ca7cff865"
      },
      "execution_count": null,
      "outputs": [
        {
          "output_type": "stream",
          "name": "stdout",
          "text": [
            "[['The Weight of Water', 0.77085835], ['I Know This Much Is True', 0.7529293], ['The Lovely Bones: A Novel', 0.7230184], ['Blue Diary', 0.71828747]]\n",
            "You passed the challenge! 🎉🎉🎉🎉🎉\n"
          ]
        },
        {
          "output_type": "execute_result",
          "data": {
            "text/plain": [
              "[\"Where the Heart Is (Oprah's Book Club (Paperback))\",\n",
              " [['The Weight of Water', 0.77085835],\n",
              "  ['I Know This Much Is True', 0.7529293],\n",
              "  ['The Lovely Bones: A Novel', 0.7230184],\n",
              "  ['Blue Diary', 0.71828747]]]"
            ]
          },
          "metadata": {},
          "execution_count": 122
        }
      ]
    }
  ],
  "metadata": {
    "colab": {
      "provenance": []
    },
    "kernelspec": {
      "display_name": "Python 3",
      "language": "python",
      "name": "python3"
    },
    "language_info": {
      "codemirror_mode": {
        "name": "ipython",
        "version": 3
      },
      "file_extension": ".py",
      "mimetype": "text/x-python",
      "name": "python",
      "nbconvert_exporter": "python",
      "pygments_lexer": "ipython3",
      "version": "3.6.5"
    }
  },
  "nbformat": 4,
  "nbformat_minor": 0
}